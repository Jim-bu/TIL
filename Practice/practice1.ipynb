{
 "cells": [
  {
   "cell_type": "markdown",
   "metadata": {},
   "source": [
    "# Practice 1\n",
    "\n",
    "> 복잡한 자료구조의 (2차원 리스트) 반복문"
   ]
  },
  {
   "cell_type": "markdown",
   "metadata": {},
   "source": [
    "## 1. 복잡한 리스트의 합\n",
    "\n",
    "> 2차원 리스트를 반복하는 방법을 알아봅시다. \n",
    "\n",
    "* 주어진 아래의 리스트를 반복하여 숫자의 합을 반환하시오."
   ]
  },
  {
   "cell_type": "markdown",
   "metadata": {},
   "source": [
    "### 1.1 for 문을 활용하여 풀이하기"
   ]
  },
  {
   "cell_type": "code",
   "execution_count": 129,
   "metadata": {},
   "outputs": [],
   "source": [
    "# 아래에 코드를 작성하세요.\n",
    "\n",
    "numbers = [\n",
    "    [1, 4],\n",
    "    [10, 5],\n",
    "    [20, 30]    \n",
    "]\n",
    "\n",
    "def sum_list(numbers):\n",
    "    result = 0 # 최종 결과물이 담길 변수\n",
    "    # 첫번 째 for : 외부 리스트에서 내부 리스트를 꺼내서\n",
    "    for number in numbers:\n",
    "        # 두 번째 for : 내부 리스트에서 요소를 꺼내서\n",
    "        for num in number:\n",
    "            result += num\n",
    "    return result\n",
    "\n",
    "    '''\n",
    "    ans = 0\n",
    "    for i in numbers:     \n",
    "        for j in i:\n",
    "            ans += j\n",
    "    return ans\n",
    "    '''\n",
    "    \n",
    "\n",
    "\n",
    "\n"
   ]
  },
  {
   "cell_type": "code",
   "execution_count": 130,
   "metadata": {},
   "outputs": [
    {
     "name": "stdout",
     "output_type": "stream",
     "text": [
      "70\n"
     ]
    }
   ],
   "source": [
    "print(sum_list([[1, 4], [10, 5], [20, 30]]))  # 70"
   ]
  },
  {
   "cell_type": "markdown",
   "metadata": {},
   "source": [
    "### 1.2 Index로 접근하여 풀이하기 _ **좌표의 관점(알고리즘에서 중요)"
   ]
  },
  {
   "cell_type": "code",
   "execution_count": 90,
   "metadata": {},
   "outputs": [],
   "source": [
    "# 아래에 코드를 작성하세요.\n",
    "numbers = [\n",
    "    [1, 4],\n",
    "    [10, 5],\n",
    "    [20, 30]    \n",
    "]\n",
    "\n",
    "def sum_list_index(numbers):\n",
    "    result = 0 # 최종 결과물이 담길 변수\n",
    "    # 외부 리스트의 길이 == 행의 개수\n",
    "   \n",
    "    # 첫번째 반복 : 행의 개수만큼 반복 _ 행의 방향은 위에서 아래\n",
    "    for row in range(len(numbers)):\n",
    "        # 내부 리스트에 접근_ 열의 방향은 왼쪽에서 오른쪽\n",
    "        # 내부 리스트의 길이 == 열의 길이\n",
    "        # 두번째 반복 : 열의 개수만큼 반복\n",
    "        for col in range(len(numbers[row])):\n",
    "            result  += numbers[row][col]\n",
    "    return result\n",
    "     \n",
    "\n",
    "    "
   ]
  },
  {
   "cell_type": "code",
   "execution_count": 91,
   "metadata": {},
   "outputs": [
    {
     "name": "stdout",
     "output_type": "stream",
     "text": [
      "70\n"
     ]
    }
   ],
   "source": [
    "print(sum_list_index([[1, 4], [10, 5], [20, 30]]))  # 70"
   ]
  },
  {
   "cell_type": "markdown",
   "metadata": {},
   "source": [
    "### 1.3 while 문을 활용하여 풀이하기"
   ]
  },
  {
   "cell_type": "code",
   "execution_count": 125,
   "metadata": {},
   "outputs": [],
   "source": [
    "## 아래에 코드를 작성하세요.\n",
    "numbers = [\n",
    "    [1, 4],\n",
    "    [10, 5],\n",
    "    [20, 30]    \n",
    "]\n",
    "\n",
    "\n",
    "def sum_list_while(numbers):\n",
    "    # while문은 종료조건인 얼마만큼 반복할 지에 대한 내용이 필수\n",
    "    # 외부 while 문이 시작될 때마다 증가하는 변수(종료조건에 활용)\n",
    "    i = 0\n",
    "\n",
    "    total_sum = 0 # 최종 결과물이 담길 변수\n",
    "    # 첫번째 반복 : 외부 리스트를 반복\n",
    "    while i < len(numbers):\n",
    "        # 두번째 반복 : 내부 리스트를 반복\n",
    "        # 안쪽의 while문의 종료조건을 위한 변수 생성\n",
    "        j = 0\n",
    "        while j < len(numbers[i]):\n",
    "            # 내부 리스트 요소의 값을 더하고\n",
    "            total_sum += numbers[i][j]\n",
    "            # 내부 리스트의 다음 요소 이동을 위해 col값을 하나씩 증가시켜 나가야함\n",
    "            j += 1\n",
    "        # 외부 리스트의 다음 요소 이동을 위해 row값을 증가하고 나가야함\n",
    "        i +=1\n",
    "    return total_sum\n"
   ]
  },
  {
   "cell_type": "code",
   "execution_count": 126,
   "metadata": {},
   "outputs": [
    {
     "name": "stdout",
     "output_type": "stream",
     "text": [
      "70\n"
     ]
    }
   ],
   "source": [
    "print(sum_list_while([[1, 4], [10, 5], [20, 30]]))  # 70"
   ]
  },
  {
   "cell_type": "markdown",
   "metadata": {},
   "source": [
    "## 2. 시험 점수\n",
    "\n",
    "> 2차원 배열\n",
    "\n",
    "\n",
    "* A반 학생들의 점수는 아래와 같고, students 리스트에 저장되어 있다.\n",
    "\n",
    "    * A학생(국어 100점, 수학 80점, 영어 100점)\n",
    "    * B학생(국어 90점, 수학 90점, 영어 60점)\n",
    "    * C학생(국어 80점, 수학 80점, 영어 80점)"
   ]
  },
  {
   "cell_type": "markdown",
   "metadata": {},
   "source": [
    "### 2.1 학생별 출력\n",
    "\n",
    "* 아래의 리스트를 반복하여 **학생별 총합**을 순서대로 `출력`하시오.\n",
    "\n",
    "* `sum` 내장 함수 사용 금지"
   ]
  },
  {
   "cell_type": "code",
   "execution_count": 157,
   "metadata": {},
   "outputs": [],
   "source": [
    "students = [\n",
    "    [100, 80, 100],\n",
    "    [90, 90, 60],\n",
    "    [80, 80, 80]\n",
    "]"
   ]
  },
  {
   "cell_type": "code",
   "execution_count": 185,
   "metadata": {},
   "outputs": [],
   "source": [
    "def sum_scores_by_student(students):\n",
    "\n",
    "\n",
    "    for row in range(len(students)):\n",
    "        ans = 0\n",
    "        for col in range(len(students[row])):\n",
    "            ans += students[row][col]\n",
    "        print(ans)\n",
    "\n",
    "    return ans\n"
   ]
  },
  {
   "cell_type": "code",
   "execution_count": 186,
   "metadata": {},
   "outputs": [
    {
     "name": "stdout",
     "output_type": "stream",
     "text": [
      "280\n",
      "240\n",
      "240\n"
     ]
    },
    {
     "data": {
      "text/plain": [
       "'\\n280\\n240\\n240\\n'"
      ]
     },
     "execution_count": 186,
     "metadata": {},
     "output_type": "execute_result"
    }
   ],
   "source": [
    "sum_scores_by_student(students)\n",
    "\n",
    "\"\"\"\n",
    "280\n",
    "240\n",
    "240\n",
    "\"\"\""
   ]
  },
  {
   "cell_type": "markdown",
   "metadata": {},
   "source": [
    "### 2.2 과목별 출력\n",
    "\n",
    "* 아래의 리스트를 반복하여 **과목별 총합**을 순서대로 `출력`하시오.\n",
    "* `sum` 내장 함수 사용 금지\n",
    "```"
   ]
  },
  {
   "cell_type": "code",
   "execution_count": null,
   "metadata": {},
   "outputs": [],
   "source": [
    "students = [\n",
    "    [100, 80, 100],\n",
    "    [90, 90, 60],\n",
    "    [80, 80, 80]\n",
    "]"
   ]
  },
  {
   "cell_type": "code",
   "execution_count": 175,
   "metadata": {},
   "outputs": [],
   "source": [
    "def sum_scores_by_lecture(students):\n",
    "    for i in range(len(students)):\n",
    "        ans = 0\n",
    "        for idx in range(len(students[i])):\n",
    "            ans += students[idx][i]\n",
    "        print(ans)\n",
    "    \n",
    "        "
   ]
  },
  {
   "cell_type": "code",
   "execution_count": 176,
   "metadata": {},
   "outputs": [
    {
     "name": "stdout",
     "output_type": "stream",
     "text": [
      "270\n",
      "250\n",
      "240\n"
     ]
    },
    {
     "data": {
      "text/plain": [
       "'\\n270\\n250\\n240\\n'"
      ]
     },
     "execution_count": 176,
     "metadata": {},
     "output_type": "execute_result"
    }
   ],
   "source": [
    "sum_scores_by_lecture(students)\n",
    "\n",
    "\"\"\"\n",
    "270\n",
    "250\n",
    "240\n",
    "\"\"\""
   ]
  },
  {
   "cell_type": "markdown",
   "metadata": {},
   "source": [
    "## 정리\n",
    "\n",
    "* 2차원 리스트를 모두 돌 때(순회), 접근할 수 있는 방법!\n",
    "\n",
    "* 알고리즘 수업을 시작하면 아래처럼 작성해야 하는 경우가 많을 것!"
   ]
  },
  {
   "cell_type": "code",
   "execution_count": 14,
   "metadata": {},
   "outputs": [
    {
     "name": "stdout",
     "output_type": "stream",
     "text": [
      "행 우선\n",
      "1 2 3 \n",
      "4 5 6 \n",
      "7 8 9 \n",
      "\n",
      "열 우선\n",
      "1 4 7 \n",
      "2 5 8 \n",
      "3 6 9 \n"
     ]
    }
   ],
   "source": [
    "matrix = [\n",
    "    [1, 2, 3],\n",
    "    [4, 5, 6], \n",
    "    [7, 8, 9]\n",
    "]\n",
    "\n",
    "print('행 우선')\n",
    "for i in range(len(matrix)):\n",
    "    for j in range(len(matrix[i])):\n",
    "        print(matrix[i][j], end=' ')\n",
    "    print()\n",
    "\n",
    "print()\n",
    "\n",
    "print('열 우선')\n",
    "for i in range(len(matrix)):\n",
    "    for j in range(len(matrix[i])):\n",
    "        print(matrix[j][i], end=' ')\n",
    "    print()"
   ]
  },
  {
   "cell_type": "code",
   "execution_count": null,
   "metadata": {},
   "outputs": [],
   "source": []
  }
 ],
 "metadata": {
  "kernelspec": {
   "display_name": "Python 3 (ipykernel)",
   "language": "python",
   "name": "python3"
  },
  "language_info": {
   "codemirror_mode": {
    "name": "ipython",
    "version": 3
   },
   "file_extension": ".py",
   "mimetype": "text/x-python",
   "name": "python",
   "nbconvert_exporter": "python",
   "pygments_lexer": "ipython3",
   "version": "3.9.13"
  },
  "toc": {
   "base_numbering": 1,
   "nav_menu": {},
   "number_sections": true,
   "sideBar": true,
   "skip_h1_title": false,
   "title_cell": "Table of Contents",
   "title_sidebar": "Contents",
   "toc_cell": false,
   "toc_position": {},
   "toc_section_display": true,
   "toc_window_display": false
  }
 },
 "nbformat": 4,
 "nbformat_minor": 4
}
