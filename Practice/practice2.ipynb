{
 "cells": [
  {
   "cell_type": "markdown",
   "metadata": {},
   "source": [
    "# Practice 2"
   ]
  },
  {
   "cell_type": "markdown",
   "metadata": {},
   "source": [
    "## 1. 모든 위치\n",
    "\n",
    "> 주어진 문자열(text)에서 제시된 알파벳(alphabet)의 등장 위치를 리스트로 반환하시오.\n",
    "> 해당 알파벳이 등장하지 않으면, -1을 반환하시오.\n"
   ]
  },
  {
   "cell_type": "code",
   "execution_count": 3,
   "metadata": {},
   "outputs": [
    {
     "data": {
      "text/plain": [
       "'\\ndef my_find(text, alphabet):\\n    result = []\\n    # text 문자열을 반복\\n    for char in range(len(text)):\\n        # text의 char인덱스의 요소를 alphabet과 비교\\n        if text[char] == alphabet:\\n            result.append(char)\\n    if len(result) == 0:\\n        return -1\\n    return result\\n'"
      ]
     },
     "execution_count": 3,
     "metadata": {},
     "output_type": "execute_result"
    }
   ],
   "source": [
    "def my_find(text, alphabet):\n",
    "    result = []\n",
    "    my_idx = 0\n",
    "    # text 문자열을 반복\n",
    "    for char in range(len(text)):\n",
    "        # char를 alphabet과 비교\n",
    "        if text[char] == alphabet:\n",
    "            result.append(my_idx)\n",
    "        my_idx += 1\n",
    "    # 반복이 모두 끝난 뒤 result의 모습을 지정(해당 알파벳이 등장하지 않으면, -1을 반환하는 조건)\n",
    "    if result == []:\n",
    "        return -1\n",
    "    else:\n",
    "        return result\n",
    "\n",
    "\n",
    "'''\n",
    "def my_find(text, alphabet):\n",
    "    result = []\n",
    "    # text 문자열을 반복\n",
    "    for char in range(len(text)):\n",
    "        # text의 char인덱스의 요소를 alphabet과 비교\n",
    "        if text[char] == alphabet:\n",
    "            result.append(char)\n",
    "    if len(result) == 0:\n",
    "        return -1\n",
    "    return result\n",
    "'''"
   ]
  },
  {
   "cell_type": "code",
   "execution_count": null,
   "metadata": {},
   "outputs": [],
   "source": [
    "# 반복 + 인덱스 (1. enumerate 사용)\n",
    "def my_find(text, alphabet):\n",
    "    result = []\n",
    "    for idx, char in enumerate(text):\n",
    "        if alphabet == char:\n",
    "            result.append(idx)\n",
    "    if result == []:\n",
    "        return -1\n",
    "    else:\n",
    "        return result"
   ]
  },
  {
   "cell_type": "code",
   "execution_count": 4,
   "metadata": {},
   "outputs": [
    {
     "name": "stdout",
     "output_type": "stream",
     "text": [
      "[1, 2]\n",
      "None\n",
      "[]\n",
      "None\n"
     ]
    }
   ],
   "source": [
    "print(my_find('apple', 'p'))  # [1, 2]\n",
    "print(my_find('a', 'p'))  # -1"
   ]
  },
  {
   "cell_type": "markdown",
   "metadata": {},
   "source": [
    "## 2. 출석 체크\n",
    "\n",
    "> 주어진 학생 n과 출석한 학생명부 students 문자열이 있다. 결석한 학생들로 구성된 문자열을 반환하시오.\n",
    ">\n",
    "> n이 7일 때, 1 2 3 4 5 6 7의 출석 번호가 부여되고,\n",
    ">\n",
    "> '1 3 5'는 출석한 학생 명부이다. \n",
    ">\n",
    "> 즉, 결석한 학생 명부 '2 4 6 7'을 return 해야 한다.\n"
   ]
  },
  {
   "cell_type": "code",
   "execution_count": 43,
   "metadata": {},
   "outputs": [],
   "source": [
    "def check(n, students):\n",
    "\n",
    "\n",
    "    a = []\n",
    "    for i in range(1, n+1):\n",
    "        for _ in range(len(students.split())):\n",
    "            b = list(map(int, students.split()))\n",
    "            if i not in b:\n",
    "                a.append(str(i))\n",
    "                break\n",
    "\n",
    "    result = ' '.join(a)\n",
    "    return result\n",
    "\n",
    "\n"
   ]
  },
  {
   "cell_type": "code",
   "execution_count": 44,
   "metadata": {
    "ExecuteTime": {
     "end_time": "2020-07-22T07:58:30.841852Z",
     "start_time": "2020-07-22T07:58:30.838924Z"
    }
   },
   "outputs": [
    {
     "name": "stdout",
     "output_type": "stream",
     "text": [
      "2 4 6 7\n"
     ]
    }
   ],
   "source": [
    "print(check(7, '1 3 5')) # 2 4 6 7"
   ]
  },
  {
   "cell_type": "markdown",
   "metadata": {},
   "source": [
    "## 3. 중복되지 않은 숫자의 합\n",
    "\n",
    "> 같은 숫자가 한개 있거나 두개가 들어있는 리스트가 주어진다. 이러한 리스트에서 숫자가 한개만 있는 요소들의 합을 구하는 함수 `sum_of_repeat_number()`를 작성하시오.\n",
    ">\n",
    "> 예를 들어, `[4, 4, 7, 8, 10, 4]`는 7과 8, 10이 한번만 나오기 때문에 두개를 더한 25가 결과값으로 도출된다.\n"
   ]
  },
  {
   "cell_type": "code",
   "execution_count": 7,
   "metadata": {},
   "outputs": [
    {
     "data": {
      "text/plain": [
       "'\\n    a = 0\\n    for i in range(len(numbers)):\\n        if numbers.count(numbers[i]) == 1:\\n            a += numbers[i]\\n    return a\\n'"
      ]
     },
     "execution_count": 7,
     "metadata": {},
     "output_type": "execute_result"
    }
   ],
   "source": [
    "def sum_of_repeat_number(numbers):\n",
    "    # 전체 리스트를 순회하며, (반복)\n",
    "    # 한번만 나타나는 것이라면, (조건)\n",
    "        # 리스트에 추가해서(초기변수)\n",
    "    # 그 리스트 요소들의 합을 반환한다.\n",
    "\n",
    "    # 두 가지의 리스트가 필요\n",
    "    # 한 번 등장한 것을 저장하는 곳(1번 저장소)\n",
    "    # 두 번이상 등장한 것을 저장하는 곳 (2번 저장소)\n",
    "    # 만약 한 번이라도 등장한 값이라면,\n",
    "        # 2번 저장소로 옮기고,\n",
    "        # 1번 저장소에서는 삭제\n",
    "    # 등장한 적이 없고, 2번 저장소에도 없다면,\n",
    "        # 1번 저장소에 추가\n",
    "\n",
    "    once = []\n",
    "    multiple = []\n",
    "    for number in numbers:\n",
    "        # 값이 등장한 적이 없는 지를 확인\n",
    "        if number in once:\n",
    "            once.remove(number)\n",
    "            multiple.append(number)\n",
    "        # 만약 등장한 적이 없다면\n",
    "        elif number not in multiple:\n",
    "            once.append(number)\n",
    "    return sum(once)\n",
    "\n",
    "\n",
    "'''\n",
    "    a = 0\n",
    "    for i in range(len(numbers)):\n",
    "        if numbers.count(numbers[i]) == 1:\n",
    "            a += numbers[i]\n",
    "    return a\n",
    "'''"
   ]
  },
  {
   "cell_type": "code",
   "execution_count": 8,
   "metadata": {},
   "outputs": [
    {
     "name": "stdout",
     "output_type": "stream",
     "text": [
      "25\n"
     ]
    }
   ],
   "source": [
    "print(sum_of_repeat_number([4, 4, 7, 8, 10, 4]))  # 25"
   ]
  },
  {
   "cell_type": "markdown",
   "metadata": {},
   "source": [
    "## 4. 문자열 탐색\n",
    "\n",
    "> 문자열 요소로만 이루어진 리스트를 넣었을 때, 문자열 길이가 2 이상이고 주어진 문자열의 첫번째와 마지막 문자가 같은 문자열의 수를 카운트하는 함수 `start_end()`를 작성하시오."
   ]
  },
  {
   "cell_type": "code",
   "execution_count": null,
   "metadata": {},
   "outputs": [],
   "source": [
    "def start_end(words):\n",
    "    # 변수 생성\n",
    "    # for1 - 리스트\n",
    "    # for2 - 문자열의 수\n",
    "    # 만약 if 문자열 길이 > 2 & 문자열의 첫번째 index[0] == index[-1]:\n",
    "    # 변수 += for2의 변수"
   ]
  },
  {
   "cell_type": "code",
   "execution_count": null,
   "metadata": {},
   "outputs": [],
   "source": [
    "print(start_end(['level', 'asdwe', 's', 'abceda', 'gsdwrtfg']))  # 3"
   ]
  },
  {
   "cell_type": "markdown",
   "metadata": {},
   "source": [
    "## 5. Collatz 추측\n",
    "\n",
    "> 1937년 Collatz란 사람에 의해 제기된 이 추측은, 주어진 수가 1이 될때까지 다음 작업을 반복하면, 모든 수를 1로 만들 수 있다는 추측이다. 그 원리는 아래와 같다.\n",
    ">\n",
    "> 1. 입력된 수가 짝수라면 2로 나눈다. \n",
    "> 2. 입력된 수가 홀수라면 3을 곱하고 1을 더한다.\n",
    "> 3. 결과로 나온 수에 같은 작업을 1이 될 때까지 반복한다.\n",
    ">\n",
    ">  예를 들어, 입력된 수가 6이라면 6 → 3 → 10 → 5 → 16 → 8 → 4 → 2 → 1 이 되어 총 8번 만에 1이 된다.\n",
    ">\n",
    "> 위 작업을 몇 번이나 반복해야하는지 반환하는 함수 `collatz()`를 작성하시오 (단, 작업을 500번을 반복해도 1이 되지 않는다면 –1을 반환하시오.)"
   ]
  },
  {
   "cell_type": "code",
   "execution_count": 34,
   "metadata": {},
   "outputs": [],
   "source": [
    "def collatz(num):\n",
    "    a = 0\n",
    "    while num != 1: # while진입_반복하는 조건\n",
    "        if num % 2 == 0:\n",
    "            num = num / 2\n",
    "        elif num % 2 == 1:\n",
    "            num = num *  3 + 1    \n",
    "        a += 1\n",
    "        # if a >500:\n",
    "        #     return -1\n",
    "    return a\n"
   ]
  },
  {
   "cell_type": "code",
   "execution_count": 35,
   "metadata": {},
   "outputs": [
    {
     "name": "stdout",
     "output_type": "stream",
     "text": [
      "8\n",
      "4\n",
      "111\n",
      "508\n"
     ]
    }
   ],
   "source": [
    "print(collatz(6))  # 8\n",
    "print(collatz(16))  # 4\n",
    "print(collatz(27))  # 111\n",
    "print(collatz(626331))  # -1"
   ]
  }
 ],
 "metadata": {
  "kernelspec": {
   "display_name": "Python 3",
   "language": "python",
   "name": "python3"
  },
  "language_info": {
   "codemirror_mode": {
    "name": "ipython",
    "version": 3
   },
   "file_extension": ".py",
   "mimetype": "text/x-python",
   "name": "python",
   "nbconvert_exporter": "python",
   "pygments_lexer": "ipython3",
   "version": "3.9.13"
  },
  "toc": {
   "base_numbering": 1,
   "nav_menu": {},
   "number_sections": true,
   "sideBar": true,
   "skip_h1_title": false,
   "title_cell": "Table of Contents",
   "title_sidebar": "Contents",
   "toc_cell": false,
   "toc_position": {},
   "toc_section_display": true,
   "toc_window_display": false
  }
 },
 "nbformat": 4,
 "nbformat_minor": 4
}
